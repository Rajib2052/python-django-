{
 "cells": [
  {
   "cell_type": "code",
   "execution_count": null,
   "metadata": {},
   "outputs": [],
   "source": [
    "# Initialize the sum variable\n",
    "total = 0\n",
    "\n",
    "# Loop through the numbers from 1 to 6\n",
    "for number in range(1, 7):\n",
    "    total += number\n",
    "\n",
    "# Print the result\n",
    "print(\"The sum is:\", total)\n",
    "\n",
    "\n"
   ]
  }
 ],
 "metadata": {
  "language_info": {
   "name": "python"
  }
 },
 "nbformat": 4,
 "nbformat_minor": 2
}
